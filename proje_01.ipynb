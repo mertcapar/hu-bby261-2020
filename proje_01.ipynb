{
  "nbformat": 4,
  "nbformat_minor": 0,
  "metadata": {
    "colab": {
      "name": "proje_01.ipynb",
      "provenance": [],
      "collapsed_sections": [],
      "authorship_tag": "ABX9TyNOUeP1nQjXe5WOOBFfYhCz",
      "include_colab_link": true
    },
    "kernelspec": {
      "name": "python3",
      "display_name": "Python 3"
    }
  },
  "cells": [
    {
      "cell_type": "markdown",
      "metadata": {
        "id": "view-in-github",
        "colab_type": "text"
      },
      "source": [
        "<a href=\"https://colab.research.google.com/github/mertcapar/hu-bby261-2020/blob/main/proje_01.ipynb\" target=\"_parent\"><img src=\"https://colab.research.google.com/assets/colab-badge.svg\" alt=\"Open In Colab\"/></a>"
      ]
    },
    {
      "cell_type": "code",
      "metadata": {
        "id": "HvI-XfQvMB8-"
      },
      "source": [
        "import string\n",
        "metin = \"Elektronik spor (diğer adlarıyla e-Spor veya eSpor), organize video oyunu yarışmalarına verilen isim. Oyunlar, genellikle profesyonel oyuncular arasında profesyonel organizasyonlar ile düzenlendiğinde bu ismi alır. Elektronik sporlarda en çok rastlanan oyun türleri strateji oyunları, dövüş oyunları, birinci şahıs nişancı oyunları ve spor oyunlarıdır. League of Legends Dünya Şampiyonası, The International, Evolution Championship Series ve Intel Extreme Masters gibi turnuvalar canlı yayınlanır ve oyunculara altı haneli miktarlara kadar önemli para ödülleri sağlar.\"\n",
        "aranan = input(\"Belgede aramak istediğiniz kelimeyi giriniz: \")\n",
        "metinSon=\"\"\n",
        "for karakter in metin:\n",
        "\tif karakter not in string.punctuation:\n",
        "\t\tmetinSon += karakter\n",
        "arananVarmi=metinSon.find(\" \"+aranan+\" \")\n",
        "say=metinSon.count(\" \"+aranan+\" \")\n",
        "if arananVarmi != -1:\n",
        "\tprint(\"Aradığınız kelime cümle içerisinde var. Kelimenin cümlede kullanım sayısı\")\n",
        "\tprint(say)\n",
        "else:\n",
        "\tprint(\"Aradığınız kelime cümle içerisinde yok.\")\n"
      ],
      "execution_count": null,
      "outputs": []
    }
  ]
}