{
  "nbformat": 4,
  "nbformat_minor": 0,
  "metadata": {
    "colab": {
      "name": "proje_01.ipynb",
      "provenance": [],
      "collapsed_sections": [],
      "authorship_tag": "ABX9TyOojNtzl/vCqUK7Ex1zjsFC",
      "include_colab_link": true
    },
    "kernelspec": {
      "name": "python3",
      "display_name": "Python 3"
    }
  },
  "cells": [
    {
      "cell_type": "markdown",
      "metadata": {
        "id": "view-in-github",
        "colab_type": "text"
      },
      "source": [
        "<a href=\"https://colab.research.google.com/github/mertcapar/hu-bby261-2020/blob/main/proje_01.ipynb\" target=\"_parent\"><img src=\"https://colab.research.google.com/assets/colab-badge.svg\" alt=\"Open In Colab\"/></a>"
      ]
    },
    {
      "cell_type": "code",
      "metadata": {
        "id": "HvI-XfQvMB8-",
        "outputId": "f8ef0aab-ef7e-4b53-858f-dbb041550ca5",
        "colab": {
          "base_uri": "https://localhost:8080/",
          "height": 68
        }
      },
      "source": [
        "metin = \"Elektronik spor (diğer adlarıyla e-Spor veya eSpor), organize video oyunu yarışmalarına verilen isim. Oyunlar, genellikle profesyonel oyuncular arasında profesyonel organizasyonlar ile düzenlendiğinde bu ismi alır. Elektronik sporlarda en çok rastlanan oyun türleri strateji oyunları, dövüş oyunları, birinci şahıs nişancı oyunları ve spor oyunlarıdır. League of Legends Dünya Şampiyonası, The International, Evolution Championship Series ve Intel Extreme Masters gibi turnuvalar canlı yayınlanır ve oyunculara altı haneli miktarlara kadar önemli para ödülleri sağlar.\"\n",
        "aranan = input(\"Belgede aramak istediğiniz kelimeyi giriniz: \")\n",
        "arananVarmi=metin.find(\" \"+aranan+\" \")\n",
        "say=metin.count(\" \"+aranan+\" \")\n",
        "if arananVarmi != -1:\n",
        "\tprint(\"Aradığınız kelime cümle içerisinde var. Kelimenin cümlede kullanım sayısı\")\n",
        "\tprint(say)\n",
        "else:\n",
        "\tprint(\"Aradığınız kelime cümle içerisinde yok.\")\n"
      ],
      "execution_count": null,
      "outputs": [
        {
          "output_type": "stream",
          "text": [
            "Belgede aramak istediğiniz kelimeyi giriniz: profesyonel\n",
            "Aradığınız kelime cümle içerisinde var. Kelimenin cümlede kullanım sayısı\n",
            "2\n"
          ],
          "name": "stdout"
        }
      ]
    }
  ]
}