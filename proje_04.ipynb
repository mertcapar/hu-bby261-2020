{
  "nbformat": 4,
  "nbformat_minor": 0,
  "metadata": {
    "colab": {
      "name": "proje_04.ipynb",
      "provenance": [],
      "collapsed_sections": [],
      "authorship_tag": "ABX9TyMJqUn1tEXrTg05XvHHAf+o",
      "include_colab_link": true
    },
    "kernelspec": {
      "name": "python3",
      "display_name": "Python 3"
    },
    "accelerator": "GPU"
  },
  "cells": [
    {
      "cell_type": "markdown",
      "metadata": {
        "id": "view-in-github",
        "colab_type": "text"
      },
      "source": [
        "<a href=\"https://colab.research.google.com/github/mertcapar/hu-bby261-2020/blob/main/proje_04.ipynb\" target=\"_parent\"><img src=\"https://colab.research.google.com/assets/colab-badge.svg\" alt=\"Open In Colab\"/></a>"
      ]
    },
    {
      "cell_type": "code",
      "metadata": {
        "id": "pf2yw24bovfs",
        "colab": {
          "base_uri": "https://localhost:8080/"
        },
        "outputId": "3b7d6ddd-816c-4ca3-d651-7e42900cc88f"
      },
      "source": [
        "from google.colab import drive\n",
        "from IPython.display import clear_output\n",
        "drive.mount('/gdrive', force_remount=True)\n",
        "metin = \"/gdrive/My Drive/proje_04/metin.txt\"\n",
        "sifrelenmisMetin = \"/gdrive/My Drive/proje_04/sifrelenmisMetin.txt\"\n",
        "sifresizCumle=\"\"\n",
        "sifreliCumle =\"\"\n",
        "kirilmisCumle=\"\"\n",
        "alfabe = [\"a\", \"b\",\"c\",\"ç\",\"d\",\"e\",\"f\",\"g\",\"ğ\",\"h\",\"ı\",\"i\",\"j\",\"k\",\"l\",\"m\",\"n\",\"o\",\"ö\",\"p\",\"r\",\"s\",\"ş\",\"t\",\"o\",\"u\",\"ü\",\"v\",\"y\",\"z\",\"x\",\"q\",\"A\",\"B\",\"C\",\"Ç\",\"D\",\"E\",\"F\",\"G\",\"Ğ\",\"H\",\"I\",\"İ\",\"J\",\"K\",\"L\",\"M\",\"N\",\"O\",\"Ö\",\"P\",\"R\",\"S\",\"Ş\",\"T\",\"U\",\"Ü\",\"V\",\"Y\",\"Z\",\"X\",\"Q\",\" \",\",\",\".\",\"\\ufeff\"]\n",
        "print(\"         MENÜ        \")\n",
        "print(\"Metini şifreyelip metin dosyasına yazdırmak için 1 yazınız.\")\n",
        "print(\"Metin dosyasındaki şifreli cümleyi çözmek için 2 yazınız.\")\n",
        "print(\"Metin dosyasındaki şifreli cümleyi kırmak için 3 yazınız.\")\n",
        "secim=input(\"Yapmak istediğiniz işlemi seçiniz:\")\n",
        "if secim ==\"1\":\n",
        "  a = open(metin, \"r\")\n",
        "  for line in a.readlines():\n",
        "      print(line)\n",
        "  anahtar = int(input(\"Şifreleme anahtarını giriniz:\"))\n",
        "  for i in line:\n",
        "    sifreliCumle += alfabe[(alfabe.index(i)+anahtar)%len(alfabe)]\n",
        "    clear_output()\n",
        "    print(\"Şifreli cümle\")\n",
        "    print(sifreliCumle)\n",
        "    b = open(sifrelenmisMetin, \"w\")\n",
        "    b.write(sifreliCumle)\n",
        "  a.close()\n",
        "  b.close()\n",
        "\n",
        "elif secim ==\"2\":\n",
        "  b=open(sifrelenmisMetin, \"r\")\n",
        "  for line in b.readlines():\n",
        "      print(line)\n",
        "  anahtar=int(input(\"Şifre çözme anahtarını giriniz:\"))\n",
        "  for c in line:\n",
        "    sifresizCumle += alfabe[(alfabe.index(c)-anahtar) % len(alfabe)]\n",
        "    clear_output()\n",
        "    print(\"Şifresiz cümle\")\n",
        "    print(sifresizCumle)\n",
        "  b.close()\n",
        "\n",
        "elif secim==\"3\":\n",
        "  a=open(metin, \"r\")\n",
        "  b=open(sifrelenmisMetin, \"r\")\n",
        "  metinCumlesi=a.readlines()\n",
        "  for line in b.readlines():\n",
        "      print(\"Şifreniz: \"+line)\n",
        "  for x in range(len(alfabe)):\n",
        "    for i in line:\n",
        "        kirilmisCumle += alfabe[(alfabe.index(i)-x) % len(alfabe)]\n",
        "    print(\"Anahtar: \"+str(x)+\" :\"+kirilmisCumle)\n",
        "    kirilmisCumle = \"\"\n",
        "    #clear_output()\n",
        "    if line == kirilmisCumle:\n",
        "      print(kirilmisCumle)\n",
        "  a.close()\n",
        "  b.close()                "
      ],
      "execution_count": 6,
      "outputs": [
        {
          "output_type": "stream",
          "text": [
            "Şifreli cümle\n",
            "cDloıloçqçt﻿grpçpköka﻿dlt﻿dloıloçqçtk﻿royuüytçp﻿hlAlnoğo﻿şçtfçoçtkp﻿ığpğo﻿çgkgktb\n"
          ],
          "name": "stdout"
        }
      ]
    }
  ]
}