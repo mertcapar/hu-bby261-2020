{
  "nbformat": 4,
  "nbformat_minor": 0,
  "metadata": {
    "colab": {
      "name": "proje_04.ipynb",
      "provenance": [],
      "collapsed_sections": [],
      "authorship_tag": "ABX9TyNkNH6anx+15uiOGtUL2SLD",
      "include_colab_link": true
    },
    "kernelspec": {
      "name": "python3",
      "display_name": "Python 3"
    },
    "accelerator": "GPU"
  },
  "cells": [
    {
      "cell_type": "markdown",
      "metadata": {
        "id": "view-in-github",
        "colab_type": "text"
      },
      "source": [
        "<a href=\"https://colab.research.google.com/github/mertcapar/hu-bby261-2020/blob/main/proje_04.ipynb\" target=\"_parent\"><img src=\"https://colab.research.google.com/assets/colab-badge.svg\" alt=\"Open In Colab\"/></a>"
      ]
    },
    {
      "cell_type": "code",
      "metadata": {
        "id": "pf2yw24bovfs",
        "colab": {
          "base_uri": "https://localhost:8080/"
        },
        "outputId": "4260f09c-5878-4a97-a89d-8f82cff0ed59"
      },
      "source": [
        "from google.colab import drive\n",
        "drive.mount('/gdrive', force_remount=True)\n",
        "metin = \"/gdrive/My Drive/proje_04/metin.txt\"\n",
        "sifrelenmisMetin = \"/gdrive/My Drive/proje_04/sifrelenmisMetin.txt\"\n",
        "alfabe = [\"a\", \"b\",\"c\",\"ç\",\"d\",\"e\",\"f\",\"g\",\"ğ\",\"h\",\"ı\",\"i\",\"j\",\"k\",\"l\",\"m\",\"n\",\"o\",\"ö\",\"p\",\"r\",\"s\",\"ş\",\"t\",\"o\",\"ö\",\"u\",\"ü\",\"v\",\"y\",\"z\",\"x\",\"q\",\"A\",\"B\",\"C\",\"Ç\",\"D\",\"E\",\"F\",\"G\",\"Ğ\",\"H\",\"I\",\"İ\",\"J\",\"K\",\"L\",\"M\",\"N\",\"O\",\"Ö\",\"U\",\"Ü\",\"V\",\"Y\",\"Z\",\"X\",\"Q\",\" \",\",\",\".\",\"\\ufeff\"]\n",
        "print(\"         MENÜ        \")\n",
        "secim=input(\"Metini şifreyelip metin dosyasına yazdırmak için 1 yazınız.\\n\")\n",
        "if secim ==\"1\":\n",
        "  a = open(metin, \"r\")\n",
        "  for line in a.readlines():\n",
        "      print(line)\n",
        "  sifreliCumle =\"\"\n",
        "  anahtar = int(input(\"Şifreleme anahtarını giriniz:\"))\n",
        "  for i in line:\n",
        "    sifreliCumle += alfabe[(alfabe.index(i)+anahtar)%len(alfabe)]\n",
        "    print(\"Şifreli cümle:\", sifreliCumle)\n",
        "  b = open(sifrelenmisMetin, \"w\")\n",
        "  b.write(sifreliCumle+\"\\n\")\n",
        "\n",
        "  a.close()\n",
        "  b.close()\n",
        "\n",
        "\n",
        "\n"
      ],
      "execution_count": 2,
      "outputs": [
        {
          "output_type": "stream",
          "text": [
            "Mounted at /gdrive\n",
            "         MENÜ        \n",
            "Metini şifreyelip metin dosyasına yazdırmak için 1 yazınız.\n",
            "2\n"
          ],
          "name": "stdout"
        }
      ]
    }
  ]
}