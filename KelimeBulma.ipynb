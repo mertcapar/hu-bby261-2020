{
  "nbformat": 4,
  "nbformat_minor": 0,
  "metadata": {
    "colab": {
      "name": "KelimeBulma.ipynb",
      "provenance": [],
      "collapsed_sections": [],
      "authorship_tag": "ABX9TyPfaVKcQTyQnXPvz49gSYwm",
      "include_colab_link": true
    },
    "kernelspec": {
      "name": "python3",
      "display_name": "Python 3"
    }
  },
  "cells": [
    {
      "cell_type": "markdown",
      "metadata": {
        "id": "view-in-github",
        "colab_type": "text"
      },
      "source": [
        "<a href=\"https://colab.research.google.com/github/mertcapar/hu-bby261-2020/blob/main/KelimeBulma.ipynb\" target=\"_parent\"><img src=\"https://colab.research.google.com/assets/colab-badge.svg\" alt=\"Open In Colab\"/></a>"
      ]
    },
    {
      "cell_type": "code",
      "metadata": {
        "id": "HvI-XfQvMB8-",
        "outputId": "7f377e1f-d64f-4783-d3a9-e3f8d7ddbea7",
        "colab": {
          "base_uri": "https://localhost:8080/",
          "height": 51
        }
      },
      "source": [
        "metin = \"Elektronik spor (diğer adlarıyla e-Spor veya eSpor), organize video oyunu yarışmalarına verilen isim. Oyunlar, genellikle profesyonel oyuncular arasında profesyonel organizasyonlar ile düzenlendiğinde bu ismi alır. Elektronik sporlarda en çok rastlanan oyun türleri strateji oyunları, dövüş oyunları, birinci şahıs nişancı oyunları ve spor oyunlarıdır. League of Legends Dünya Şampiyonası, The International, Evolution Championship Series ve Intel Extreme Masters gibi turnuvalar canlı yayınlanır ve oyunculara altı haneli miktarlara kadar önemli para ödülleri sağlar.\"\n",
        "aranan = input(\"Belgede aramak istediğiniz kelimeyi giriniz: \")\n",
        "arananVarmi=metin.find(\" \"+aranan+\" \")\n",
        "if arananVarmi != -1:\n",
        "\tprint(\"Aradığınız kelime cümle içerisinde var\")\n",
        "else:\n",
        "\tprint(\"Aradığınız kelime cümle içerisinde yok.\")\n"
      ],
      "execution_count": 48,
      "outputs": [
        {
          "output_type": "stream",
          "text": [
            "Belgede aramak istediğiniz kelimeyi giriniz: Oyun\n",
            "Aradığınız kelime cümle içerisinde yok.\n"
          ],
          "name": "stdout"
        }
      ]
    }
  ]
}