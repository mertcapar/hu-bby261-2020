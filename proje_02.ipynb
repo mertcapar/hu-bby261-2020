{
  "nbformat": 4,
  "nbformat_minor": 0,
  "metadata": {
    "colab": {
      "name": "Kilometreyi mile çevirme.ipynb",
      "provenance": [],
      "collapsed_sections": [],
      "authorship_tag": "ABX9TyO7opH7GI7rHZE8XH+/jSrC",
      "include_colab_link": true
    },
    "kernelspec": {
      "name": "python3",
      "display_name": "Python 3"
    }
  },
  "cells": [
    {
      "cell_type": "markdown",
      "metadata": {
        "id": "view-in-github",
        "colab_type": "text"
      },
      "source": [
        "<a href=\"https://colab.research.google.com/github/mertcapar/hu-bby261-2020/blob/main/proje_02.ipynb\" target=\"_parent\"><img src=\"https://colab.research.google.com/assets/colab-badge.svg\" alt=\"Open In Colab\"/></a>"
      ]
    },
    {
      "cell_type": "code",
      "metadata": {
        "id": "-ZMgCvSRFqxE"
      },
      "source": [
        "import tensorflow as tf\n",
        "import matplotlib.pyplot as plt\n",
        "import numpy as np\n",
        "import logging\n",
        "logger = tf.get_logger()\n",
        "logger.setLevel(logging.ERROR)\n",
        "\n",
        "kilometre= np.array([1, 5, 12, 16, 18, 39, 50, 100, 250, 490, 521, 758, 806, 1000 ],  dtype=float)\n",
        "mil= np.array([0.62, 3,10, 7.45, 9.94, 11.18, 24.23, 62, 155, 304, 323, 470, 500, 621 ],  dtype=float)\n",
        "\n",
        "sec=int(input(\"Kilometreyi mile çevirmek için 1 Mili kilometreye çevirmek için 2 yazınız: \"))\n",
        "if sec == 1:\n",
        "  for i,c in enumerate(kilometre):\n",
        "    print(\"{} kilometre = {} mil\".format(c, mil[i]))\n",
        "\n",
        "  l0 = tf.keras.layers.Dense(units=1, input_shape=[1])\n",
        "\n",
        "  model = tf.keras.Sequential([l0])\n",
        "\n",
        "  model.compile(loss='mean_squared_error', optimizer=tf.keras.optimizers.Adam(0.1))\n",
        "\n",
        "  ogrenmeSayisi=int(input(\"Yapay zekanın kaç kere öğreneceğini giriniz: \"))\n",
        "  history= model.fit(kilometre, mil, epochs=ogrenmeSayisi, verbose=False)\n",
        "  print(\"Öğrenme tamamlandı.\")\n",
        "\n",
        "  plt.xlabel('Dönem numarası')\n",
        "  plt.ylabel('Kayıp büyüklüğü')\n",
        "  plt.plot(history.history['loss'])\n",
        "\n",
        "  tahminSayisi=float(input(\"Tahmin edilen Km giriniz: \"))\n",
        "\n",
        "  print(\"Tahmin edilen: {} mil\".format(model.predict([tahminSayisi])))\n",
        "  print(\"Gerçek değer: {} mil\".format(tahminSayisi*0.62))\n",
        "  print(\"Katman değişkenleri: {}\".format(l0.get_weights()))\n",
        "\n",
        "elif sec==2:\n",
        "    for i,c in enumerate(mil):\n",
        "      print(\"{} mil = {} kilometre\".format(c, kilometre[i]))\n",
        "\n",
        "    l0 = tf.keras.layers.Dense(units=1, input_shape=[1])\n",
        "\n",
        "    model = tf.keras.Sequential([l0])\n",
        "\n",
        "    model.compile(loss='mean_squared_error', optimizer=tf.keras.optimizers.Adam(0.1))\n",
        "\n",
        "    ogrenmeSayisi=int(input(\"Yapay zekanın kaç kere öğreneceğini giriniz: \"))\n",
        "    history= model.fit(mil, kilometre, epochs=ogrenmeSayisi, verbose=False)\n",
        "    print(\"Öğrenme tamamlandı.\")\n",
        "\n",
        "    plt.xlabel('Dönem numarası')\n",
        "    plt.ylabel('Kayıp büyüklüğü')\n",
        "    plt.plot(history.history['loss'])\n",
        "\n",
        "    tahminSayisi=float(input(\"Tahmin edilen mil giriniz: \"))\n",
        "\n",
        "    print(\"Tahmin edilen: {} Km\".format(model.predict([tahminSayisi])))\n",
        "    print(\"Gerçek değer: {} Km\".format(tahminSayisi/0.62))\n",
        "    print(\"Katman değişkenleri: {}\".format(l0.get_weights()))\n",
        "\n",
        "else:\n",
        "  print(\"Yanlış seçim yaptınız!\")\n"
      ],
      "execution_count": null,
      "outputs": []
    }
  ]
}